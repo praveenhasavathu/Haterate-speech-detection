{
 "cells": [
  {
   "cell_type": "markdown",
   "id": "5bba616d",
   "metadata": {
    "papermill": {
     "duration": 0.006189,
     "end_time": "2025-01-10T15:37:31.448937",
     "exception": false,
     "start_time": "2025-01-10T15:37:31.442748",
     "status": "completed"
    },
    "tags": []
   },
   "source": [
    "# import Dependencies and Bring in Data"
   ]
  },
  {
   "cell_type": "code",
   "execution_count": 1,
   "id": "9788d58b",
   "metadata": {
    "execution": {
     "iopub.execute_input": "2025-01-10T15:37:31.461419Z",
     "iopub.status.busy": "2025-01-10T15:37:31.461109Z",
     "iopub.status.idle": "2025-01-10T15:37:38.493222Z",
     "shell.execute_reply": "2025-01-10T15:37:38.492540Z"
    },
    "papermill": {
     "duration": 7.039716,
     "end_time": "2025-01-10T15:37:38.494674",
     "exception": false,
     "start_time": "2025-01-10T15:37:31.454958",
     "status": "completed"
    },
    "tags": []
   },
   "outputs": [],
   "source": [
    "import os\n",
    "import pandas as pd\n",
    "import tensorflow as tf\n",
    "import numpy as np"
   ]
  },
  {
   "cell_type": "code",
   "execution_count": 2,
   "id": "e996f290",
   "metadata": {
    "execution": {
     "iopub.execute_input": "2025-01-10T15:37:38.506597Z",
     "iopub.status.busy": "2025-01-10T15:37:38.506125Z",
     "iopub.status.idle": "2025-01-10T15:37:38.591348Z",
     "shell.execute_reply": "2025-01-10T15:37:38.590482Z"
    },
    "papermill": {
     "duration": 0.092386,
     "end_time": "2025-01-10T15:37:38.592735",
     "exception": false,
     "start_time": "2025-01-10T15:37:38.500349",
     "status": "completed"
    },
    "tags": []
   },
   "outputs": [
    {
     "data": {
      "text/html": [
       "<div>\n",
       "<style scoped>\n",
       "    .dataframe tbody tr th:only-of-type {\n",
       "        vertical-align: middle;\n",
       "    }\n",
       "\n",
       "    .dataframe tbody tr th {\n",
       "        vertical-align: top;\n",
       "    }\n",
       "\n",
       "    .dataframe thead th {\n",
       "        text-align: right;\n",
       "    }\n",
       "</style>\n",
       "<table border=\"1\" class=\"dataframe\">\n",
       "  <thead>\n",
       "    <tr style=\"text-align: right;\">\n",
       "      <th></th>\n",
       "      <th>Unnamed: 0</th>\n",
       "      <th>count</th>\n",
       "      <th>hate_speech</th>\n",
       "      <th>offensive_language</th>\n",
       "      <th>neither</th>\n",
       "      <th>class</th>\n",
       "      <th>tweet</th>\n",
       "    </tr>\n",
       "  </thead>\n",
       "  <tbody>\n",
       "    <tr>\n",
       "      <th>0</th>\n",
       "      <td>0</td>\n",
       "      <td>3</td>\n",
       "      <td>0</td>\n",
       "      <td>0</td>\n",
       "      <td>3</td>\n",
       "      <td>2</td>\n",
       "      <td>!!! RT @mayasolovely: As a woman you shouldn't...</td>\n",
       "    </tr>\n",
       "    <tr>\n",
       "      <th>1</th>\n",
       "      <td>1</td>\n",
       "      <td>3</td>\n",
       "      <td>0</td>\n",
       "      <td>3</td>\n",
       "      <td>0</td>\n",
       "      <td>1</td>\n",
       "      <td>!!!!! RT @mleew17: boy dats cold...tyga dwn ba...</td>\n",
       "    </tr>\n",
       "    <tr>\n",
       "      <th>2</th>\n",
       "      <td>2</td>\n",
       "      <td>3</td>\n",
       "      <td>0</td>\n",
       "      <td>3</td>\n",
       "      <td>0</td>\n",
       "      <td>1</td>\n",
       "      <td>!!!!!!! RT @UrKindOfBrand Dawg!!!! RT @80sbaby...</td>\n",
       "    </tr>\n",
       "    <tr>\n",
       "      <th>3</th>\n",
       "      <td>3</td>\n",
       "      <td>3</td>\n",
       "      <td>0</td>\n",
       "      <td>2</td>\n",
       "      <td>1</td>\n",
       "      <td>1</td>\n",
       "      <td>!!!!!!!!! RT @C_G_Anderson: @viva_based she lo...</td>\n",
       "    </tr>\n",
       "    <tr>\n",
       "      <th>4</th>\n",
       "      <td>4</td>\n",
       "      <td>6</td>\n",
       "      <td>0</td>\n",
       "      <td>6</td>\n",
       "      <td>0</td>\n",
       "      <td>1</td>\n",
       "      <td>!!!!!!!!!!!!! RT @ShenikaRoberts: The shit you...</td>\n",
       "    </tr>\n",
       "  </tbody>\n",
       "</table>\n",
       "</div>"
      ],
      "text/plain": [
       "   Unnamed: 0  count  hate_speech  offensive_language  neither  class  \\\n",
       "0           0      3            0                   0        3      2   \n",
       "1           1      3            0                   3        0      1   \n",
       "2           2      3            0                   3        0      1   \n",
       "3           3      3            0                   2        1      1   \n",
       "4           4      6            0                   6        0      1   \n",
       "\n",
       "                                               tweet  \n",
       "0  !!! RT @mayasolovely: As a woman you shouldn't...  \n",
       "1  !!!!! RT @mleew17: boy dats cold...tyga dwn ba...  \n",
       "2  !!!!!!! RT @UrKindOfBrand Dawg!!!! RT @80sbaby...  \n",
       "3  !!!!!!!!! RT @C_G_Anderson: @viva_based she lo...  \n",
       "4  !!!!!!!!!!!!! RT @ShenikaRoberts: The shit you...  "
      ]
     },
     "execution_count": 2,
     "metadata": {},
     "output_type": "execute_result"
    }
   ],
   "source": [
    "dataset = pd.read_csv(\"labeled_data.csv\")\n",
    "\n",
    "dataset.head()"
   ]
  },
  {
   "cell_type": "code",
   "execution_count": 3,
   "id": "7438035b",
   "metadata": {
    "execution": {
     "iopub.execute_input": "2025-01-10T15:37:38.605435Z",
     "iopub.status.busy": "2025-01-10T15:37:38.605158Z",
     "iopub.status.idle": "2025-01-10T15:37:38.628394Z",
     "shell.execute_reply": "2025-01-10T15:37:38.627478Z"
    },
    "papermill": {
     "duration": 0.030929,
     "end_time": "2025-01-10T15:37:38.629731",
     "exception": false,
     "start_time": "2025-01-10T15:37:38.598802",
     "status": "completed"
    },
    "tags": []
   },
   "outputs": [
    {
     "name": "stdout",
     "output_type": "stream",
     "text": [
      "<class 'pandas.core.frame.DataFrame'>\n",
      "RangeIndex: 24783 entries, 0 to 24782\n",
      "Data columns (total 7 columns):\n",
      " #   Column              Non-Null Count  Dtype \n",
      "---  ------              --------------  ----- \n",
      " 0   Unnamed: 0          24783 non-null  int64 \n",
      " 1   count               24783 non-null  int64 \n",
      " 2   hate_speech         24783 non-null  int64 \n",
      " 3   offensive_language  24783 non-null  int64 \n",
      " 4   neither             24783 non-null  int64 \n",
      " 5   class               24783 non-null  int64 \n",
      " 6   tweet               24783 non-null  object\n",
      "dtypes: int64(6), object(1)\n",
      "memory usage: 1.3+ MB\n"
     ]
    }
   ],
   "source": [
    "dataset.info()"
   ]
  },
  {
   "cell_type": "code",
   "execution_count": 4,
   "id": "d5f36087",
   "metadata": {
    "execution": {
     "iopub.execute_input": "2025-01-10T15:37:38.641635Z",
     "iopub.status.busy": "2025-01-10T15:37:38.641427Z",
     "iopub.status.idle": "2025-01-10T15:37:38.663927Z",
     "shell.execute_reply": "2025-01-10T15:37:38.663209Z"
    },
    "papermill": {
     "duration": 0.029574,
     "end_time": "2025-01-10T15:37:38.665115",
     "exception": false,
     "start_time": "2025-01-10T15:37:38.635541",
     "status": "completed"
    },
    "tags": []
   },
   "outputs": [
    {
     "data": {
      "text/html": [
       "<div>\n",
       "<style scoped>\n",
       "    .dataframe tbody tr th:only-of-type {\n",
       "        vertical-align: middle;\n",
       "    }\n",
       "\n",
       "    .dataframe tbody tr th {\n",
       "        vertical-align: top;\n",
       "    }\n",
       "\n",
       "    .dataframe thead th {\n",
       "        text-align: right;\n",
       "    }\n",
       "</style>\n",
       "<table border=\"1\" class=\"dataframe\">\n",
       "  <thead>\n",
       "    <tr style=\"text-align: right;\">\n",
       "      <th></th>\n",
       "      <th>Unnamed: 0</th>\n",
       "      <th>count</th>\n",
       "      <th>hate_speech</th>\n",
       "      <th>offensive_language</th>\n",
       "      <th>neither</th>\n",
       "      <th>class</th>\n",
       "    </tr>\n",
       "  </thead>\n",
       "  <tbody>\n",
       "    <tr>\n",
       "      <th>count</th>\n",
       "      <td>24783.000000</td>\n",
       "      <td>24783.000000</td>\n",
       "      <td>24783.000000</td>\n",
       "      <td>24783.000000</td>\n",
       "      <td>24783.000000</td>\n",
       "      <td>24783.000000</td>\n",
       "    </tr>\n",
       "    <tr>\n",
       "      <th>mean</th>\n",
       "      <td>12681.192027</td>\n",
       "      <td>3.243473</td>\n",
       "      <td>0.280515</td>\n",
       "      <td>2.413711</td>\n",
       "      <td>0.549247</td>\n",
       "      <td>1.110277</td>\n",
       "    </tr>\n",
       "    <tr>\n",
       "      <th>std</th>\n",
       "      <td>7299.553863</td>\n",
       "      <td>0.883060</td>\n",
       "      <td>0.631851</td>\n",
       "      <td>1.399459</td>\n",
       "      <td>1.113299</td>\n",
       "      <td>0.462089</td>\n",
       "    </tr>\n",
       "    <tr>\n",
       "      <th>min</th>\n",
       "      <td>0.000000</td>\n",
       "      <td>3.000000</td>\n",
       "      <td>0.000000</td>\n",
       "      <td>0.000000</td>\n",
       "      <td>0.000000</td>\n",
       "      <td>0.000000</td>\n",
       "    </tr>\n",
       "    <tr>\n",
       "      <th>25%</th>\n",
       "      <td>6372.500000</td>\n",
       "      <td>3.000000</td>\n",
       "      <td>0.000000</td>\n",
       "      <td>2.000000</td>\n",
       "      <td>0.000000</td>\n",
       "      <td>1.000000</td>\n",
       "    </tr>\n",
       "    <tr>\n",
       "      <th>50%</th>\n",
       "      <td>12703.000000</td>\n",
       "      <td>3.000000</td>\n",
       "      <td>0.000000</td>\n",
       "      <td>3.000000</td>\n",
       "      <td>0.000000</td>\n",
       "      <td>1.000000</td>\n",
       "    </tr>\n",
       "    <tr>\n",
       "      <th>75%</th>\n",
       "      <td>18995.500000</td>\n",
       "      <td>3.000000</td>\n",
       "      <td>0.000000</td>\n",
       "      <td>3.000000</td>\n",
       "      <td>0.000000</td>\n",
       "      <td>1.000000</td>\n",
       "    </tr>\n",
       "    <tr>\n",
       "      <th>max</th>\n",
       "      <td>25296.000000</td>\n",
       "      <td>9.000000</td>\n",
       "      <td>7.000000</td>\n",
       "      <td>9.000000</td>\n",
       "      <td>9.000000</td>\n",
       "      <td>2.000000</td>\n",
       "    </tr>\n",
       "  </tbody>\n",
       "</table>\n",
       "</div>"
      ],
      "text/plain": [
       "         Unnamed: 0         count   hate_speech  offensive_language  \\\n",
       "count  24783.000000  24783.000000  24783.000000        24783.000000   \n",
       "mean   12681.192027      3.243473      0.280515            2.413711   \n",
       "std     7299.553863      0.883060      0.631851            1.399459   \n",
       "min        0.000000      3.000000      0.000000            0.000000   \n",
       "25%     6372.500000      3.000000      0.000000            2.000000   \n",
       "50%    12703.000000      3.000000      0.000000            3.000000   \n",
       "75%    18995.500000      3.000000      0.000000            3.000000   \n",
       "max    25296.000000      9.000000      7.000000            9.000000   \n",
       "\n",
       "            neither         class  \n",
       "count  24783.000000  24783.000000  \n",
       "mean       0.549247      1.110277  \n",
       "std        1.113299      0.462089  \n",
       "min        0.000000      0.000000  \n",
       "25%        0.000000      1.000000  \n",
       "50%        0.000000      1.000000  \n",
       "75%        0.000000      1.000000  \n",
       "max        9.000000      2.000000  "
      ]
     },
     "execution_count": 4,
     "metadata": {},
     "output_type": "execute_result"
    }
   ],
   "source": [
    "dataset.describe()"
   ]
  },
  {
   "cell_type": "markdown",
   "id": "0214649c",
   "metadata": {
    "papermill": {
     "duration": 0.005663,
     "end_time": "2025-01-10T15:37:38.676563",
     "exception": false,
     "start_time": "2025-01-10T15:37:38.670900",
     "status": "completed"
    },
    "tags": []
   },
   "source": [
    "# Preprocess"
   ]
  },
  {
   "cell_type": "code",
   "execution_count": 5,
   "id": "2aca12b0",
   "metadata": {
    "execution": {
     "iopub.execute_input": "2025-01-10T15:37:38.688316Z",
     "iopub.status.busy": "2025-01-10T15:37:38.688090Z",
     "iopub.status.idle": "2025-01-10T15:37:38.697804Z",
     "shell.execute_reply": "2025-01-10T15:37:38.697032Z"
    },
    "papermill": {
     "duration": 0.016929,
     "end_time": "2025-01-10T15:37:38.699061",
     "exception": false,
     "start_time": "2025-01-10T15:37:38.682132",
     "status": "completed"
    },
    "tags": []
   },
   "outputs": [
    {
     "data": {
      "text/html": [
       "<div>\n",
       "<style scoped>\n",
       "    .dataframe tbody tr th:only-of-type {\n",
       "        vertical-align: middle;\n",
       "    }\n",
       "\n",
       "    .dataframe tbody tr th {\n",
       "        vertical-align: top;\n",
       "    }\n",
       "\n",
       "    .dataframe thead th {\n",
       "        text-align: right;\n",
       "    }\n",
       "</style>\n",
       "<table border=\"1\" class=\"dataframe\">\n",
       "  <thead>\n",
       "    <tr style=\"text-align: right;\">\n",
       "      <th></th>\n",
       "      <th>class</th>\n",
       "      <th>tweet</th>\n",
       "    </tr>\n",
       "  </thead>\n",
       "  <tbody>\n",
       "    <tr>\n",
       "      <th>0</th>\n",
       "      <td>2</td>\n",
       "      <td>!!! RT @mayasolovely: As a woman you shouldn't...</td>\n",
       "    </tr>\n",
       "    <tr>\n",
       "      <th>1</th>\n",
       "      <td>1</td>\n",
       "      <td>!!!!! RT @mleew17: boy dats cold...tyga dwn ba...</td>\n",
       "    </tr>\n",
       "    <tr>\n",
       "      <th>2</th>\n",
       "      <td>1</td>\n",
       "      <td>!!!!!!! RT @UrKindOfBrand Dawg!!!! RT @80sbaby...</td>\n",
       "    </tr>\n",
       "    <tr>\n",
       "      <th>3</th>\n",
       "      <td>1</td>\n",
       "      <td>!!!!!!!!! RT @C_G_Anderson: @viva_based she lo...</td>\n",
       "    </tr>\n",
       "    <tr>\n",
       "      <th>4</th>\n",
       "      <td>1</td>\n",
       "      <td>!!!!!!!!!!!!! RT @ShenikaRoberts: The shit you...</td>\n",
       "    </tr>\n",
       "  </tbody>\n",
       "</table>\n",
       "</div>"
      ],
      "text/plain": [
       "   class                                              tweet\n",
       "0      2  !!! RT @mayasolovely: As a woman you shouldn't...\n",
       "1      1  !!!!! RT @mleew17: boy dats cold...tyga dwn ba...\n",
       "2      1  !!!!!!! RT @UrKindOfBrand Dawg!!!! RT @80sbaby...\n",
       "3      1  !!!!!!!!! RT @C_G_Anderson: @viva_based she lo...\n",
       "4      1  !!!!!!!!!!!!! RT @ShenikaRoberts: The shit you..."
      ]
     },
     "execution_count": 5,
     "metadata": {},
     "output_type": "execute_result"
    }
   ],
   "source": [
    "df = dataset[['class', 'tweet']]\n",
    "df.head()"
   ]
  },
  {
   "cell_type": "code",
   "execution_count": 6,
   "id": "a0639cbb",
   "metadata": {
    "execution": {
     "iopub.execute_input": "2025-01-10T15:37:38.711666Z",
     "iopub.status.busy": "2025-01-10T15:37:38.711438Z",
     "iopub.status.idle": "2025-01-10T15:37:38.718296Z",
     "shell.execute_reply": "2025-01-10T15:37:38.717304Z"
    },
    "papermill": {
     "duration": 0.014596,
     "end_time": "2025-01-10T15:37:38.719772",
     "exception": false,
     "start_time": "2025-01-10T15:37:38.705176",
     "status": "completed"
    },
    "tags": []
   },
   "outputs": [
    {
     "data": {
      "text/plain": [
       "class\n",
       "1    19190\n",
       "2     4163\n",
       "0     1430\n",
       "Name: count, dtype: int64"
      ]
     },
     "execution_count": 6,
     "metadata": {},
     "output_type": "execute_result"
    }
   ],
   "source": [
    "class_counts = df['class'].value_counts()\n",
    "class_counts"
   ]
  },
  {
   "cell_type": "code",
   "execution_count": 7,
   "id": "85bfb561",
   "metadata": {
    "execution": {
     "iopub.execute_input": "2025-01-10T15:37:38.732356Z",
     "iopub.status.busy": "2025-01-10T15:37:38.732150Z",
     "iopub.status.idle": "2025-01-10T15:37:38.935114Z",
     "shell.execute_reply": "2025-01-10T15:37:38.934208Z"
    },
    "papermill": {
     "duration": 0.210581,
     "end_time": "2025-01-10T15:37:38.936467",
     "exception": false,
     "start_time": "2025-01-10T15:37:38.725886",
     "status": "completed"
    },
    "tags": []
   },
   "outputs": [
    {
     "data": {
      "image/png": "[encoded data removed]",
      "text/plain": [
       "<Figure size 800x600 with 1 Axes>"
      ]
     },
     "metadata": {},
     "output_type": "display_data"
    }
   ],
   "source": [
    "import matplotlib.pyplot as plt\n",
    "\n",
    "class_labels = {0: 'Hate Speech', 1: 'Offensive Language', 2: 'Neither'}\n",
    "\n",
    "plt.figure(figsize=(8, 6))\n",
    "class_counts.rename(index=class_labels).plot(kind='bar', color=['red', 'green', 'blue'])\n",
    "plt.title('Class Distribution in the Dataset')\n",
    "plt.xlabel('Class')\n",
    "plt.ylabel('Number of Samples')\n",
    "plt.xticks(rotation=0)\n",
    "plt.show()"
   ]
  },
  {
   "cell_type": "markdown",
   "id": "ed909fd1",
   "metadata": {
    "papermill": {
     "duration": 0.006238,
     "end_time": "2025-01-10T15:37:38.949923",
     "exception": false,
     "start_time": "2025-01-10T15:37:38.943685",
     "status": "completed"
    },
    "tags": []
   },
   "source": [
    "## Balance Dataset"
   ]
  },
  {
   "cell_type": "code",
   "execution_count": 8,
   "id": "bbb8bbae",
   "metadata": {
    "execution": {
     "iopub.execute_input": "2025-01-10T15:37:38.963829Z",
     "iopub.status.busy": "2025-01-10T15:37:38.963534Z",
     "iopub.status.idle": "2025-01-10T15:37:38.977964Z",
     "shell.execute_reply": "2025-01-10T15:37:38.977210Z"
    },
    "papermill": {
     "duration": 0.022872,
     "end_time": "2025-01-10T15:37:38.979263",
     "exception": false,
     "start_time": "2025-01-10T15:37:38.956391",
     "status": "completed"
    },
    "tags": []
   },
   "outputs": [
    {
     "name": "stdout",
     "output_type": "stream",
     "text": [
      "class\n",
      "2    1430\n",
      "1    1430\n",
      "0    1430\n",
      "Name: count, dtype: int64\n"
     ]
    }
   ],
   "source": [
    "min_class_size = class_counts.min() #  1430\n",
    "\n",
    "# Sample each class to match the smallest class size\n",
    "df_class_0 = df[df['class'] == 0].sample(min_class_size, random_state=42)\n",
    "df_class_1 = df[df['class'] == 1].sample(min_class_size, random_state=42)\n",
    "df_class_2 = df[df['class'] == 2].sample(min_class_size, random_state=42)\n",
    "\n",
    "# Combine the sampled data\n",
    "df_balanced = pd.concat([df_class_0, df_class_1, df_class_2])\n",
    "\n",
    "# Shuffle the dataset\n",
    "df_balanced = df_balanced.sample(frac=1, random_state=42).reset_index(drop=True)\n",
    "\n",
    "# Check the class distribution\n",
    "print(df_balanced['class'].value_counts())"
   ]
  },
  {
   "cell_type": "code",
   "execution_count": 9,
   "id": "d881e069",
   "metadata": {
    "execution": {
     "iopub.execute_input": "2025-01-10T15:37:38.993007Z",
     "iopub.status.busy": "2025-01-10T15:37:38.992754Z",
     "iopub.status.idle": "2025-01-10T15:37:39.001196Z",
     "shell.execute_reply": "2025-01-10T15:37:39.000318Z"
    },
    "papermill": {
     "duration": 0.016704,
     "end_time": "2025-01-10T15:37:39.002547",
     "exception": false,
     "start_time": "2025-01-10T15:37:38.985843",
     "status": "completed"
    },
    "tags": []
   },
   "outputs": [
    {
     "data": {
      "text/html": [
       "<div>\n",
       "<style scoped>\n",
       "    .dataframe tbody tr th:only-of-type {\n",
       "        vertical-align: middle;\n",
       "    }\n",
       "\n",
       "    .dataframe tbody tr th {\n",
       "        vertical-align: top;\n",
       "    }\n",
       "\n",
       "    .dataframe thead th {\n",
       "        text-align: right;\n",
       "    }\n",
       "</style>\n",
       "<table border=\"1\" class=\"dataframe\">\n",
       "  <thead>\n",
       "    <tr style=\"text-align: right;\">\n",
       "      <th></th>\n",
       "      <th>class</th>\n",
       "      <th>tweet</th>\n",
       "    </tr>\n",
       "  </thead>\n",
       "  <tbody>\n",
       "    <tr>\n",
       "      <th>0</th>\n",
       "      <td>2</td>\n",
       "      <td>&amp;#8220;@AdderallHadMe: Adderall had me killing...</td>\n",
       "    </tr>\n",
       "    <tr>\n",
       "      <th>1</th>\n",
       "      <td>1</td>\n",
       "      <td>@WendyDavisTexas msnbc the same MSM who said b...</td>\n",
       "    </tr>\n",
       "    <tr>\n",
       "      <th>2</th>\n",
       "      <td>2</td>\n",
       "      <td>\"@TEE_JONEZ: @KingCuh @16stanleys I'm not mad ...</td>\n",
       "    </tr>\n",
       "    <tr>\n",
       "      <th>3</th>\n",
       "      <td>2</td>\n",
       "      <td>Jihadi propaganda ploy:US had Gulf countries p...</td>\n",
       "    </tr>\n",
       "    <tr>\n",
       "      <th>4</th>\n",
       "      <td>2</td>\n",
       "      <td>Defiantly going to see that new planet of the ...</td>\n",
       "    </tr>\n",
       "    <tr>\n",
       "      <th>...</th>\n",
       "      <td>...</td>\n",
       "      <td>...</td>\n",
       "    </tr>\n",
       "    <tr>\n",
       "      <th>4285</th>\n",
       "      <td>2</td>\n",
       "      <td>Video: Shy Glizzy &amp;#8211; &amp;#8220;I Can&amp;#8217;t...</td>\n",
       "    </tr>\n",
       "    <tr>\n",
       "      <th>4286</th>\n",
       "      <td>0</td>\n",
       "      <td>@Matt_Petrie22 geta Life faggot</td>\n",
       "    </tr>\n",
       "    <tr>\n",
       "      <th>4287</th>\n",
       "      <td>2</td>\n",
       "      <td>@JunDishes get a can of WASP SPRAY. it shoots ...</td>\n",
       "    </tr>\n",
       "    <tr>\n",
       "      <th>4288</th>\n",
       "      <td>2</td>\n",
       "      <td>RT @antoinetteA: Coming up at 5:15a: Charlie B...</td>\n",
       "    </tr>\n",
       "    <tr>\n",
       "      <th>4289</th>\n",
       "      <td>0</td>\n",
       "      <td>Lmaooo RT @Handsomeesco_55 She a tranny if she...</td>\n",
       "    </tr>\n",
       "  </tbody>\n",
       "</table>\n",
       "<p>4290 rows × 2 columns</p>\n",
       "</div>"
      ],
      "text/plain": [
       "      class                                              tweet\n",
       "0         2  &#8220;@AdderallHadMe: Adderall had me killing...\n",
       "1         1  @WendyDavisTexas msnbc the same MSM who said b...\n",
       "2         2  \"@TEE_JONEZ: @KingCuh @16stanleys I'm not mad ...\n",
       "3         2  Jihadi propaganda ploy:US had Gulf countries p...\n",
       "4         2  Defiantly going to see that new planet of the ...\n",
       "...     ...                                                ...\n",
       "4285      2  Video: Shy Glizzy &#8211; &#8220;I Can&#8217;t...\n",
       "4286      0                    @Matt_Petrie22 geta Life faggot\n",
       "4287      2  @JunDishes get a can of WASP SPRAY. it shoots ...\n",
       "4288      2  RT @antoinetteA: Coming up at 5:15a: Charlie B...\n",
       "4289      0  Lmaooo RT @Handsomeesco_55 She a tranny if she...\n",
       "\n",
       "[4290 rows x 2 columns]"
      ]
     },
     "execution_count": 9,
     "metadata": {},
     "output_type": "execute_result"
    }
   ],
   "source": [
    "df_balanced"
   ]
  },
  {
   "cell_type": "markdown",
   "id": "4689dd13",
   "metadata": {
    "papermill": {
     "duration": 0.006342,
     "end_time": "2025-01-10T15:37:39.015462",
     "exception": false,
     "start_time": "2025-01-10T15:37:39.009120",
     "status": "completed"
    },
    "tags": []
   },
   "source": [
    "## Prepare Text"
   ]
  },
  {
   "cell_type": "code",
   "execution_count": 10,
   "id": "6a79a2b9",
   "metadata": {
    "execution": {
     "iopub.execute_input": "2025-01-10T15:37:39.029694Z",
     "iopub.status.busy": "2025-01-10T15:37:39.029478Z",
     "iopub.status.idle": "2025-01-10T15:37:39.035695Z",
     "shell.execute_reply": "2025-01-10T15:37:39.034949Z"
    },
    "papermill": {
     "duration": 0.01457,
     "end_time": "2025-01-10T15:37:39.036900",
     "exception": false,
     "start_time": "2025-01-10T15:37:39.022330",
     "status": "completed"
    },
    "tags": []
   },
   "outputs": [
    {
     "data": {
      "text/html": [
       "<div>\n",
       "<style scoped>\n",
       "    .dataframe tbody tr th:only-of-type {\n",
       "        vertical-align: middle;\n",
       "    }\n",
       "\n",
       "    .dataframe tbody tr th {\n",
       "        vertical-align: top;\n",
       "    }\n",
       "\n",
       "    .dataframe thead th {\n",
       "        text-align: right;\n",
       "    }\n",
       "</style>\n",
       "<table border=\"1\" class=\"dataframe\">\n",
       "  <thead>\n",
       "    <tr style=\"text-align: right;\">\n",
       "      <th></th>\n",
       "      <th>class</th>\n",
       "      <th>tweet</th>\n",
       "    </tr>\n",
       "  </thead>\n",
       "  <tbody>\n",
       "    <tr>\n",
       "      <th>1</th>\n",
       "      <td>1</td>\n",
       "      <td>@WendyDavisTexas msnbc the same MSM who said b...</td>\n",
       "    </tr>\n",
       "    <tr>\n",
       "      <th>2</th>\n",
       "      <td>2</td>\n",
       "      <td>\"@TEE_JONEZ: @KingCuh @16stanleys I'm not mad ...</td>\n",
       "    </tr>\n",
       "    <tr>\n",
       "      <th>3</th>\n",
       "      <td>2</td>\n",
       "      <td>Jihadi propaganda ploy:US had Gulf countries p...</td>\n",
       "    </tr>\n",
       "    <tr>\n",
       "      <th>4</th>\n",
       "      <td>2</td>\n",
       "      <td>Defiantly going to see that new planet of the ...</td>\n",
       "    </tr>\n",
       "  </tbody>\n",
       "</table>\n",
       "</div>"
      ],
      "text/plain": [
       "   class                                              tweet\n",
       "1      1  @WendyDavisTexas msnbc the same MSM who said b...\n",
       "2      2  \"@TEE_JONEZ: @KingCuh @16stanleys I'm not mad ...\n",
       "3      2  Jihadi propaganda ploy:US had Gulf countries p...\n",
       "4      2  Defiantly going to see that new planet of the ..."
      ]
     },
     "execution_count": 10,
     "metadata": {},
     "output_type": "execute_result"
    }
   ],
   "source": [
    "df_balanced.iloc[1:5]"
   ]
  },
  {
   "cell_type": "code",
   "execution_count": 11,
   "id": "11b6d47c",
   "metadata": {
    "execution": {
     "iopub.execute_input": "2025-01-10T15:37:39.051032Z",
     "iopub.status.busy": "2025-01-10T15:37:39.050816Z",
     "iopub.status.idle": "2025-01-10T15:37:40.266861Z",
     "shell.execute_reply": "2025-01-10T15:37:40.266155Z"
    },
    "papermill": {
     "duration": 1.224755,
     "end_time": "2025-01-10T15:37:40.268392",
     "exception": false,
     "start_time": "2025-01-10T15:37:39.043637",
     "status": "completed"
    },
    "tags": []
   },
   "outputs": [],
   "source": [
    "import re\n",
    "from nltk.stem import PorterStemmer\n",
    "from nltk.corpus import stopwords\n",
    "\n",
    "# Initialize the Porter Stemmer\n",
    "ps = PorterStemmer()\n",
    "    \n",
    "# Initialize stopwords\n",
    "all_stopwords = stopwords.words('english')\n",
    "all_stopwords.remove('not')  # Keep 'not' as it is important in negation\n",
    "\n",
    "def clean_and_preprocess_text(text):\n",
    "\n",
    "    # Remove 'RT' (Retweet indicator)\n",
    "    text = re.sub(r'\\bRT\\b', '', text)\n",
    "\n",
    "    # Remove URLs (Optional: you can keep this if needed)\n",
    "    text = re.sub(r'http\\S+|www\\S+|https\\S+', '', text)\n",
    "\n",
    "    # Remove Twitter handles (Optional: you can keep this if needed)\n",
    "    text = re.sub(r'@\\w+', '', text)\n",
    "\n",
    "    # Remove non-alphabetic characters (keep spaces)\n",
    "    text = re.sub('[^a-zA-Z\\s]', ' ', text)\n",
    "\n",
    "    \n",
    "    # Convert to lowercase\n",
    "    text = text.lower()\n",
    "\n",
    "    # Tokenize the text (split into words)\n",
    "    words = text.split()\n",
    "\n",
    "    # Remove stopwords and apply stemming\n",
    "    words = [ps.stem(word) for word in words if word not in all_stopwords]\n",
    "    \n",
    "    # Rejoin the words back into a single string\n",
    "    cleaned_text = ' '.join(words)\n",
    "    \n",
    "    return cleaned_text"
   ]
  },
  {
   "cell_type": "code",
   "execution_count": 12,
   "id": "3fc3f792",
   "metadata": {
    "execution": {
     "iopub.execute_input": "2025-01-10T15:37:40.283515Z",
     "iopub.status.busy": "2025-01-10T15:37:40.282999Z",
     "iopub.status.idle": "2025-01-10T15:37:44.098331Z",
     "shell.execute_reply": "2025-01-10T15:37:44.097438Z"
    },
    "papermill": {
     "duration": 3.82406,
     "end_time": "2025-01-10T15:37:44.099694",
     "exception": false,
     "start_time": "2025-01-10T15:37:40.275634",
     "status": "completed"
    },
    "tags": []
   },
   "outputs": [
    {
     "data": {
      "text/html": [
       "<div>\n",
       "<style scoped>\n",
       "    .dataframe tbody tr th:only-of-type {\n",
       "        vertical-align: middle;\n",
       "    }\n",
       "\n",
       "    .dataframe tbody tr th {\n",
       "        vertical-align: top;\n",
       "    }\n",
       "\n",
       "    .dataframe thead th {\n",
       "        text-align: right;\n",
       "    }\n",
       "</style>\n",
       "<table border=\"1\" class=\"dataframe\">\n",
       "  <thead>\n",
       "    <tr style=\"text-align: right;\">\n",
       "      <th></th>\n",
       "      <th>class</th>\n",
       "      <th>tweet</th>\n",
       "      <th>x</th>\n",
       "    </tr>\n",
       "  </thead>\n",
       "  <tbody>\n",
       "    <tr>\n",
       "      <th>0</th>\n",
       "      <td>2</td>\n",
       "      <td>&amp;#8220;@AdderallHadMe: Adderall had me killing...</td>\n",
       "      <td>woman complain clean hous amp man alway take t...</td>\n",
       "    </tr>\n",
       "    <tr>\n",
       "      <th>1</th>\n",
       "      <td>1</td>\n",
       "      <td>@WendyDavisTexas msnbc the same MSM who said b...</td>\n",
       "      <td>boy dat cold tyga dwn bad cuffin dat hoe st place</td>\n",
       "    </tr>\n",
       "    <tr>\n",
       "      <th>2</th>\n",
       "      <td>2</td>\n",
       "      <td>\"@TEE_JONEZ: @KingCuh @16stanleys I'm not mad ...</td>\n",
       "      <td>dawg ever fuck bitch start cri confus shit</td>\n",
       "    </tr>\n",
       "    <tr>\n",
       "      <th>3</th>\n",
       "      <td>2</td>\n",
       "      <td>Jihadi propaganda ploy:US had Gulf countries p...</td>\n",
       "      <td>look like tranni</td>\n",
       "    </tr>\n",
       "    <tr>\n",
       "      <th>4</th>\n",
       "      <td>2</td>\n",
       "      <td>Defiantly going to see that new planet of the ...</td>\n",
       "      <td>shit hear might true might faker bitch told ya</td>\n",
       "    </tr>\n",
       "  </tbody>\n",
       "</table>\n",
       "</div>"
      ],
      "text/plain": [
       "   class                                              tweet  \\\n",
       "0      2  &#8220;@AdderallHadMe: Adderall had me killing...   \n",
       "1      1  @WendyDavisTexas msnbc the same MSM who said b...   \n",
       "2      2  \"@TEE_JONEZ: @KingCuh @16stanleys I'm not mad ...   \n",
       "3      2  Jihadi propaganda ploy:US had Gulf countries p...   \n",
       "4      2  Defiantly going to see that new planet of the ...   \n",
       "\n",
       "                                                   x  \n",
       "0  woman complain clean hous amp man alway take t...  \n",
       "1  boy dat cold tyga dwn bad cuffin dat hoe st place  \n",
       "2         dawg ever fuck bitch start cri confus shit  \n",
       "3                                   look like tranni  \n",
       "4     shit hear might true might faker bitch told ya  "
      ]
     },
     "execution_count": 12,
     "metadata": {},
     "output_type": "execute_result"
    }
   ],
   "source": [
    "df_balanced.loc[:, 'x'] = df['tweet'].apply(clean_and_preprocess_text)\n",
    "\n",
    "df_balanced.head()"
   ]
  },
  {
   "cell_type": "markdown",
   "id": "7ab8dc3e",
   "metadata": {
    "papermill": {
     "duration": 0.007459,
     "end_time": "2025-01-10T15:37:44.115041",
     "exception": false,
     "start_time": "2025-01-10T15:37:44.107582",
     "status": "completed"
    },
    "tags": []
   },
   "source": [
    "## Data splitting"
   ]
  },
  {
   "cell_type": "code",
   "execution_count": 13,
   "id": "8be27090",
   "metadata": {
    "execution": {
     "iopub.execute_input": "2025-01-10T15:37:44.129949Z",
     "iopub.status.busy": "2025-01-10T15:37:44.129684Z",
     "iopub.status.idle": "2025-01-10T15:37:44.134479Z",
     "shell.execute_reply": "2025-01-10T15:37:44.133682Z"
    },
    "papermill": {
     "duration": 0.013585,
     "end_time": "2025-01-10T15:37:44.135872",
     "exception": false,
     "start_time": "2025-01-10T15:37:44.122287",
     "status": "completed"
    },
    "tags": []
   },
   "outputs": [
    {
     "data": {
      "text/plain": [
       "array(['woman complain clean hous amp man alway take trash',\n",
       "       'boy dat cold tyga dwn bad cuffin dat hoe st place',\n",
       "       'dawg ever fuck bitch start cri confus shit', ...,\n",
       "       'charli brown christma stori rudolph island misfit toy',\n",
       "       'call pussi got block real quick bobbi kelli cant say upset',\n",
       "       'comparison beatl bunch cunt band matter face imo stone second'],\n",
       "      dtype=object)"
      ]
     },
     "execution_count": 13,
     "metadata": {},
     "output_type": "execute_result"
    }
   ],
   "source": [
    "y = df_balanced[\"class\"].values\n",
    "x = df_balanced[\"x\"].values\n",
    "\n",
    "x"
   ]
  },
  {
   "cell_type": "code",
   "execution_count": 14,
   "id": "7164bfb7",
   "metadata": {
    "execution": {
     "iopub.execute_input": "2025-01-10T15:37:44.150386Z",
     "iopub.status.busy": "2025-01-10T15:37:44.150122Z",
     "iopub.status.idle": "2025-01-10T15:37:44.154887Z",
     "shell.execute_reply": "2025-01-10T15:37:44.154053Z"
    },
    "papermill": {
     "duration": 0.013378,
     "end_time": "2025-01-10T15:37:44.156141",
     "exception": false,
     "start_time": "2025-01-10T15:37:44.142763",
     "status": "completed"
    },
    "tags": []
   },
   "outputs": [
    {
     "data": {
      "text/plain": [
       "array([1, 2, 2, 2])"
      ]
     },
     "execution_count": 14,
     "metadata": {},
     "output_type": "execute_result"
    }
   ],
   "source": [
    "y[1:5]"
   ]
  },
  {
   "cell_type": "code",
   "execution_count": 15,
   "id": "d79ca6b5",
   "metadata": {
    "execution": {
     "iopub.execute_input": "2025-01-10T15:37:44.170816Z",
     "iopub.status.busy": "2025-01-10T15:37:44.170601Z",
     "iopub.status.idle": "2025-01-10T15:37:44.175222Z",
     "shell.execute_reply": "2025-01-10T15:37:44.174431Z"
    },
    "papermill": {
     "duration": 0.013303,
     "end_time": "2025-01-10T15:37:44.176493",
     "exception": false,
     "start_time": "2025-01-10T15:37:44.163190",
     "status": "completed"
    },
    "tags": []
   },
   "outputs": [
    {
     "name": "stdout",
     "output_type": "stream",
     "text": [
      "shape of x:  (4290,) \n",
      "shape of y:  (4290,)\n"
     ]
    }
   ],
   "source": [
    "print(\"shape of x: \", x.shape,\"\\nshape of y: \",y.shape)"
   ]
  },
  {
   "cell_type": "code",
   "execution_count": 16,
   "id": "c8d94154",
   "metadata": {
    "execution": {
     "iopub.execute_input": "2025-01-10T15:37:44.191152Z",
     "iopub.status.busy": "2025-01-10T15:37:44.190916Z",
     "iopub.status.idle": "2025-01-10T15:37:44.925881Z",
     "shell.execute_reply": "2025-01-10T15:37:44.925188Z"
    },
    "papermill": {
     "duration": 0.743661,
     "end_time": "2025-01-10T15:37:44.927150",
     "exception": false,
     "start_time": "2025-01-10T15:37:44.183489",
     "status": "completed"
    },
    "tags": []
   },
   "outputs": [],
   "source": [
    "#MCSHBAP - map, chache, shuffle, batch, prefetch  from_tensor_slices, list_file\n",
    "dataset = tf.data.Dataset.from_tensor_slices((x, y))\n",
    "dataset = dataset.cache()\n",
    "dataset = dataset.shuffle(16000)\n",
    "dataset = dataset.batch(16)\n",
    "dataset = dataset.prefetch(8) # helps bottlenecks"
   ]
  },
  {
   "cell_type": "code",
   "execution_count": 17,
   "id": "6b2a5745",
   "metadata": {
    "execution": {
     "iopub.execute_input": "2025-01-10T15:37:44.942928Z",
     "iopub.status.busy": "2025-01-10T15:37:44.942702Z",
     "iopub.status.idle": "2025-01-10T15:37:44.954572Z",
     "shell.execute_reply": "2025-01-10T15:37:44.953984Z"
    },
    "papermill": {
     "duration": 0.021168,
     "end_time": "2025-01-10T15:37:44.955867",
     "exception": false,
     "start_time": "2025-01-10T15:37:44.934699",
     "status": "completed"
    },
    "tags": []
   },
   "outputs": [],
   "source": [
    "train = dataset.take(int(len(dataset)*.7))\n",
    "val = dataset.skip(int(len(dataset)*.7)).take(int(len(dataset)*.2))\n",
    "test = dataset.skip(int(len(dataset)*.9)).take(int(len(dataset)*.1))"
   ]
  },
  {
   "cell_type": "markdown",
   "id": "969d8df7",
   "metadata": {
    "papermill": {
     "duration": 0.007187,
     "end_time": "2025-01-10T15:37:44.970265",
     "exception": false,
     "start_time": "2025-01-10T15:37:44.963078",
     "status": "completed"
    },
    "tags": []
   },
   "source": [
    "# Modeling"
   ]
  },
  {
   "cell_type": "code",
   "execution_count": 18,
   "id": "66b93962",
   "metadata": {
    "execution": {
     "iopub.execute_input": "2025-01-10T15:37:44.985224Z",
     "iopub.status.busy": "2025-01-10T15:37:44.985010Z",
     "iopub.status.idle": "2025-01-10T15:37:45.063135Z",
     "shell.execute_reply": "2025-01-10T15:37:45.062283Z"
    },
    "papermill": {
     "duration": 0.087019,
     "end_time": "2025-01-10T15:37:45.064460",
     "exception": false,
     "start_time": "2025-01-10T15:37:44.977441",
     "status": "completed"
    },
    "tags": []
   },
   "outputs": [],
   "source": [
    "from tensorflow.keras.models import Sequential\n",
    "from tensorflow.keras.layers import LSTM, Dropout, Bidirectional, Dense, Embedding\n",
    "\n",
    "MAX_FEATURES = 200000 # number of words in the vocab\n",
    "\n",
    "vectorizer = tf.keras.layers.TextVectorization(\n",
    "    max_tokens=MAX_FEATURES,\n",
    "    output_mode='int',\n",
    "    output_sequence_length=1000,\n",
    ")\n",
    "\n",
    "model = tf.keras.Sequential([\n",
    "    # TextVectorization layer to preprocess the raw text\n",
    "    vectorizer,\n",
    "    \n",
    "    # Embedding layer (use the size of the vocabulary for the input_dim)\n",
    "    tf.keras.layers.Embedding(MAX_FEATURES + 1, 32),\n",
    "    \n",
    "    # Bidirectional LSTM Layer\n",
    "    tf.keras.layers.Bidirectional(tf.keras.layers.LSTM(64, activation='tanh')),\n",
    "    Dropout(0.3),  # Dropout after the second LSTM layer\n",
    "    # Fully connected layers (Feature Extractors)\n",
    "    tf.keras.layers.Dense(128, activation='relu'),\n",
    "    tf.keras.layers.Dense(256, activation='relu'),\n",
    "    tf.keras.layers.Dense(128, activation='relu'),\n",
    "    \n",
    "     # Final output layer with 3 neurons for 3 classes, using softmax\n",
    "    tf.keras.layers.Dense(3, activation='softmax')  # 3 classes: 0, 1, 2\n",
    "])\n",
    "\n",
    "# Compile the model\n",
    "model.compile(\n",
    "    optimizer='adam',\n",
    "    loss='sparse_categorical_crossentropy',  # Use sparse_categorical_crossentropy for integer labels\n",
    "    metrics=['accuracy']\n",
    ")"
   ]
  },
  {
   "cell_type": "code",
   "execution_count": 19,
   "id": "1eb4ceed",
   "metadata": {
    "execution": {
     "iopub.execute_input": "2025-01-10T15:37:45.079775Z",
     "iopub.status.busy": "2025-01-10T15:37:45.079560Z",
     "iopub.status.idle": "2025-01-10T15:37:45.191097Z",
     "shell.execute_reply": "2025-01-10T15:37:45.190249Z"
    },
    "papermill": {
     "duration": 0.120984,
     "end_time": "2025-01-10T15:37:45.192642",
     "exception": false,
     "start_time": "2025-01-10T15:37:45.071658",
     "status": "completed"
    },
    "tags": []
   },
   "outputs": [],
   "source": [
    "# Fit the TextVectorization layer on the training data\n",
    "vectorizer.adapt(x)"
   ]
  },
  {
   "cell_type": "code",
   "execution_count": 20,
   "id": "355fac15",
   "metadata": {
    "execution": {
     "iopub.execute_input": "2025-01-10T15:37:45.207793Z",
     "iopub.status.busy": "2025-01-10T15:37:45.207575Z",
     "iopub.status.idle": "2025-01-10T15:41:07.541267Z",
     "shell.execute_reply": "2025-01-10T15:41:07.540208Z"
    },
    "papermill": {
     "duration": 202.342901,
     "end_time": "2025-01-10T15:41:07.542777",
     "exception": false,
     "start_time": "2025-01-10T15:37:45.199876",
     "status": "completed"
    },
    "tags": []
   },
   "outputs": [
    {
     "name": "stdout",
     "output_type": "stream",
     "text": [
      "Epoch 1/20\n",
      "\u001B[1m188/188\u001B[0m \u001B[32m━━━━━━━━━━━━━━━━━━━━\u001B[0m\u001B[37m\u001B[0m \u001B[1m16s\u001B[0m 54ms/step - accuracy: 0.3485 - loss: 1.0996 - val_accuracy: 0.3502 - val_loss: 1.0969\n",
      "Epoch 2/20\n",
      "\u001B[1m188/188\u001B[0m \u001B[32m━━━━━━━━━━━━━━━━━━━━\u001B[0m\u001B[37m\u001B[0m \u001B[1m10s\u001B[0m 52ms/step - accuracy: 0.3376 - loss: 1.0987 - val_accuracy: 0.4670 - val_loss: 1.0802\n",
      "Epoch 3/20\n",
      "\u001B[1m188/188\u001B[0m \u001B[32m━━━━━━━━━━━━━━━━━━━━\u001B[0m\u001B[37m\u001B[0m \u001B[1m10s\u001B[0m 53ms/step - accuracy: 0.4272 - loss: 1.0542 - val_accuracy: 0.5012 - val_loss: 1.0197\n",
      "Epoch 4/20\n",
      "\u001B[1m188/188\u001B[0m \u001B[32m━━━━━━━━━━━━━━━━━━━━\u001B[0m\u001B[37m\u001B[0m \u001B[1m10s\u001B[0m 52ms/step - accuracy: 0.5288 - loss: 0.9575 - val_accuracy: 0.6804 - val_loss: 0.7950\n",
      "Epoch 5/20\n",
      "\u001B[1m188/188\u001B[0m \u001B[32m━━━━━━━━━━━━━━━━━━━━\u001B[0m\u001B[37m\u001B[0m \u001B[1m10s\u001B[0m 52ms/step - accuracy: 0.6365 - loss: 0.7908 - val_accuracy: 0.7323 - val_loss: 0.6337\n",
      "Epoch 6/20\n",
      "\u001B[1m188/188\u001B[0m \u001B[32m━━━━━━━━━━━━━━━━━━━━\u001B[0m\u001B[37m\u001B[0m \u001B[1m10s\u001B[0m 52ms/step - accuracy: 0.7278 - loss: 0.6400 - val_accuracy: 0.7830 - val_loss: 0.5089\n",
      "Epoch 7/20\n",
      "\u001B[1m188/188\u001B[0m \u001B[32m━━━━━━━━━━━━━━━━━━━━\u001B[0m\u001B[37m\u001B[0m \u001B[1m10s\u001B[0m 52ms/step - accuracy: 0.8058 - loss: 0.4752 - val_accuracy: 0.8302 - val_loss: 0.4221\n",
      "Epoch 8/20\n",
      "\u001B[1m188/188\u001B[0m \u001B[32m━━━━━━━━━━━━━━━━━━━━\u001B[0m\u001B[37m\u001B[0m \u001B[1m10s\u001B[0m 52ms/step - accuracy: 0.8256 - loss: 0.4115 - val_accuracy: 0.8703 - val_loss: 0.3249\n",
      "Epoch 9/20\n",
      "\u001B[1m188/188\u001B[0m \u001B[32m━━━━━━━━━━━━━━━━━━━━\u001B[0m\u001B[37m\u001B[0m \u001B[1m10s\u001B[0m 53ms/step - accuracy: 0.8318 - loss: 0.3883 - val_accuracy: 0.8821 - val_loss: 0.2954\n",
      "Epoch 10/20\n",
      "\u001B[1m188/188\u001B[0m \u001B[32m━━━━━━━━━━━━━━━━━━━━\u001B[0m\u001B[37m\u001B[0m \u001B[1m10s\u001B[0m 52ms/step - accuracy: 0.8675 - loss: 0.3226 - val_accuracy: 0.8703 - val_loss: 0.2890\n",
      "Epoch 11/20\n",
      "\u001B[1m188/188\u001B[0m \u001B[32m━━━━━━━━━━━━━━━━━━━━\u001B[0m\u001B[37m\u001B[0m \u001B[1m10s\u001B[0m 52ms/step - accuracy: 0.8705 - loss: 0.2962 - val_accuracy: 0.9068 - val_loss: 0.2196\n",
      "Epoch 12/20\n",
      "\u001B[1m188/188\u001B[0m \u001B[32m━━━━━━━━━━━━━━━━━━━━\u001B[0m\u001B[37m\u001B[0m \u001B[1m10s\u001B[0m 52ms/step - accuracy: 0.8951 - loss: 0.2491 - val_accuracy: 0.9057 - val_loss: 0.2043\n",
      "Epoch 13/20\n",
      "\u001B[1m188/188\u001B[0m \u001B[32m━━━━━━━━━━━━━━━━━━━━\u001B[0m\u001B[37m\u001B[0m \u001B[1m10s\u001B[0m 52ms/step - accuracy: 0.9041 - loss: 0.2217 - val_accuracy: 0.9186 - val_loss: 0.1547\n",
      "Epoch 14/20\n",
      "\u001B[1m188/188\u001B[0m \u001B[32m━━━━━━━━━━━━━━━━━━━━\u001B[0m\u001B[37m\u001B[0m \u001B[1m10s\u001B[0m 52ms/step - accuracy: 0.9131 - loss: 0.1948 - val_accuracy: 0.9151 - val_loss: 0.2033\n",
      "Epoch 15/20\n",
      "\u001B[1m188/188\u001B[0m \u001B[32m━━━━━━━━━━━━━━━━━━━━\u001B[0m\u001B[37m\u001B[0m \u001B[1m10s\u001B[0m 52ms/step - accuracy: 0.9066 - loss: 0.2074 - val_accuracy: 0.9186 - val_loss: 0.1731\n",
      "Epoch 16/20\n",
      "\u001B[1m188/188\u001B[0m \u001B[32m━━━━━━━━━━━━━━━━━━━━\u001B[0m\u001B[37m\u001B[0m \u001B[1m10s\u001B[0m 52ms/step - accuracy: 0.9095 - loss: 0.1958 - val_accuracy: 0.9375 - val_loss: 0.1497\n",
      "Epoch 17/20\n",
      "\u001B[1m188/188\u001B[0m \u001B[32m━━━━━━━━━━━━━━━━━━━━\u001B[0m\u001B[37m\u001B[0m \u001B[1m10s\u001B[0m 52ms/step - accuracy: 0.9118 - loss: 0.1734 - val_accuracy: 0.9292 - val_loss: 0.1676\n",
      "Epoch 18/20\n",
      "\u001B[1m188/188\u001B[0m \u001B[32m━━━━━━━━━━━━━━━━━━━━\u001B[0m\u001B[37m\u001B[0m \u001B[1m10s\u001B[0m 52ms/step - accuracy: 0.9230 - loss: 0.1805 - val_accuracy: 0.9422 - val_loss: 0.1469\n",
      "Epoch 19/20\n",
      "\u001B[1m188/188\u001B[0m \u001B[32m━━━━━━━━━━━━━━━━━━━━\u001B[0m\u001B[37m\u001B[0m \u001B[1m10s\u001B[0m 52ms/step - accuracy: 0.9216 - loss: 0.1653 - val_accuracy: 0.9375 - val_loss: 0.1300\n",
      "Epoch 20/20\n",
      "\u001B[1m188/188\u001B[0m \u001B[32m━━━━━━━━━━━━━━━━━━━━\u001B[0m\u001B[37m\u001B[0m \u001B[1m10s\u001B[0m 52ms/step - accuracy: 0.9309 - loss: 0.1538 - val_accuracy: 0.9351 - val_loss: 0.1517\n"
     ]
    }
   ],
   "source": [
    "history = model.fit(train, epochs=20, validation_data=val)"
   ]
  },
  {
   "cell_type": "code",
   "execution_count": 21,
   "id": "789b0198",
   "metadata": {
    "execution": {
     "iopub.execute_input": "2025-01-10T15:41:07.778749Z",
     "iopub.status.busy": "2025-01-10T15:41:07.778400Z",
     "iopub.status.idle": "2025-01-10T15:41:07.985079Z",
     "shell.execute_reply": "2025-01-10T15:41:07.984155Z"
    },
    "papermill": {
     "duration": 0.344706,
     "end_time": "2025-01-10T15:41:07.986533",
     "exception": false,
     "start_time": "2025-01-10T15:41:07.641827",
     "status": "completed"
    },
    "tags": []
   },
   "outputs": [
    {
     "data": {
      "text/plain": [
       "<Figure size 800x500 with 0 Axes>"
      ]
     },
     "metadata": {},
     "output_type": "display_data"
    },
    {
     "data": {
      "image/png": "[encoded data removed]",
      "text/plain": [
       "<Figure size 640x480 with 1 Axes>"
      ]
     },
     "metadata": {},
     "output_type": "display_data"
    }
   ],
   "source": [
    "plt.figure(figsize=(8,5))\n",
    "pd.DataFrame(history.history).plot()\n",
    "plt.show()"
   ]
  },
  {
   "cell_type": "markdown",
   "id": "23396240",
   "metadata": {
    "papermill": {
     "duration": 0.098498,
     "end_time": "2025-01-10T15:41:08.187605",
     "exception": false,
     "start_time": "2025-01-10T15:41:08.089107",
     "status": "completed"
    },
    "tags": []
   },
   "source": [
    "# Make Predictions"
   ]
  },
  {
   "cell_type": "code",
   "execution_count": 22,
   "id": "eaadb879",
   "metadata": {
    "execution": {
     "iopub.execute_input": "2025-01-10T15:41:08.383121Z",
     "iopub.status.busy": "2025-01-10T15:41:08.382844Z",
     "iopub.status.idle": "2025-01-10T15:41:08.386049Z",
     "shell.execute_reply": "2025-01-10T15:41:08.385336Z"
    },
    "papermill": {
     "duration": 0.101819,
     "end_time": "2025-01-10T15:41:08.387280",
     "exception": false,
     "start_time": "2025-01-10T15:41:08.285461",
     "status": "completed"
    },
    "tags": []
   },
   "outputs": [],
   "source": [
    "# import numpy as np\n",
    "# import tensorflow as tf\n",
    "\n",
    "# # Example input text\n",
    "# input_text = [input(\"-: \")]\n",
    "\n",
    "# # Convert the input text to a tensor\n",
    "# input_text_tensor = tf.convert_to_tensor(input_text, dtype=tf.string)\n",
    "\n",
    "# # Predict the class probabilities\n",
    "# res = model.predict(input_text_tensor)\n",
    "\n",
    "# # Define class labels\n",
    "# class_labels = {0: 'Hate Speech', 1: 'Offensive Language', 2: 'Neither'}\n",
    "\n",
    "# print(res)\n",
    "# # Get the predicted class (the index with the highest probability)\n",
    "# predicted_class = np.argmax(res, axis=-1)\n",
    "\n",
    "# # Get the label of the predicted class\n",
    "# predicted_label = class_labels[predicted_class[0]]\n",
    "\n",
    "# # Print the result\n",
    "# print(f\"The input text is classified as: {predicted_label}\")"
   ]
  },
  {
   "cell_type": "markdown",
   "id": "d0a53977",
   "metadata": {
    "papermill": {
     "duration": 0.095747,
     "end_time": "2025-01-10T15:41:08.579937",
     "exception": false,
     "start_time": "2025-01-10T15:41:08.484190",
     "status": "completed"
    },
    "tags": []
   },
   "source": [
    "## Evaluate Model"
   ]
  },
  {
   "cell_type": "code",
   "execution_count": 23,
   "id": "4b916f84",
   "metadata": {
    "execution": {
     "iopub.execute_input": "2025-01-10T15:41:08.774174Z",
     "iopub.status.busy": "2025-01-10T15:41:08.773848Z",
     "iopub.status.idle": "2025-01-10T15:41:09.094091Z",
     "shell.execute_reply": "2025-01-10T15:41:09.093136Z"
    },
    "papermill": {
     "duration": 0.420488,
     "end_time": "2025-01-10T15:41:09.095641",
     "exception": false,
     "start_time": "2025-01-10T15:41:08.675153",
     "status": "completed"
    },
    "tags": []
   },
   "outputs": [],
   "source": [
    "from tensorflow.keras.metrics import Precision, Recall, CategoricalAccuracy\n",
    "import numpy as np\n",
    "from sklearn.metrics import confusion_matrix\n",
    "import seaborn as sns\n",
    "import matplotlib.pyplot as plt\n",
    "\n",
    "\n",
    "pre = Precision()\n",
    "re = Recall()\n",
    "acc = CategoricalAccuracy()"
   ]
  },
  {
   "cell_type": "code",
   "execution_count": 24,
   "id": "f11da818",
   "metadata": {
    "execution": {
     "iopub.execute_input": "2025-01-10T15:41:09.295283Z",
     "iopub.status.busy": "2025-01-10T15:41:09.294778Z",
     "iopub.status.idle": "2025-01-10T15:41:12.791351Z",
     "shell.execute_reply": "2025-01-10T15:41:12.790665Z"
    },
    "papermill": {
     "duration": 3.596213,
     "end_time": "2025-01-10T15:41:12.792724",
     "exception": false,
     "start_time": "2025-01-10T15:41:09.196511",
     "status": "completed"
    },
    "tags": []
   },
   "outputs": [
    {
     "name": "stdout",
     "output_type": "stream",
     "text": [
      "\u001B[1m1/1\u001B[0m \u001B[32m━━━━━━━━━━━━━━━━━━━━\u001B[0m\u001B[37m\u001B[0m \u001B[1m0s\u001B[0m 291ms/step\n",
      "\u001B[1m1/1\u001B[0m \u001B[32m━━━━━━━━━━━━━━━━━━━━\u001B[0m\u001B[37m\u001B[0m \u001B[1m0s\u001B[0m 44ms/step\n",
      "\u001B[1m1/1\u001B[0m \u001B[32m━━━━━━━━━━━━━━━━━━━━\u001B[0m\u001B[37m\u001B[0m \u001B[1m0s\u001B[0m 42ms/step\n",
      "\u001B[1m1/1\u001B[0m \u001B[32m━━━━━━━━━━━━━━━━━━━━\u001B[0m\u001B[37m\u001B[0m \u001B[1m0s\u001B[0m 42ms/step\n",
      "\u001B[1m1/1\u001B[0m \u001B[32m━━━━━━━━━━━━━━━━━━━━\u001B[0m\u001B[37m\u001B[0m \u001B[1m0s\u001B[0m 42ms/step\n",
      "\u001B[1m1/1\u001B[0m \u001B[32m━━━━━━━━━━━━━━━━━━━━\u001B[0m\u001B[37m\u001B[0m \u001B[1m0s\u001B[0m 42ms/step\n",
      "\u001B[1m1/1\u001B[0m \u001B[32m━━━━━━━━━━━━━━━━━━━━\u001B[0m\u001B[37m\u001B[0m \u001B[1m0s\u001B[0m 42ms/step\n",
      "\u001B[1m1/1\u001B[0m \u001B[32m━━━━━━━━━━━━━━━━━━━━\u001B[0m\u001B[37m\u001B[0m \u001B[1m0s\u001B[0m 42ms/step\n",
      "\u001B[1m1/1\u001B[0m \u001B[32m━━━━━━━━━━━━━━━━━━━━\u001B[0m\u001B[37m\u001B[0m \u001B[1m0s\u001B[0m 44ms/step\n",
      "\u001B[1m1/1\u001B[0m \u001B[32m━━━━━━━━━━━━━━━━━━━━\u001B[0m\u001B[37m\u001B[0m \u001B[1m0s\u001B[0m 43ms/step\n",
      "\u001B[1m1/1\u001B[0m \u001B[32m━━━━━━━━━━━━━━━━━━━━\u001B[0m\u001B[37m\u001B[0m \u001B[1m0s\u001B[0m 43ms/step\n",
      "\u001B[1m1/1\u001B[0m \u001B[32m━━━━━━━━━━━━━━━━━━━━\u001B[0m\u001B[37m\u001B[0m \u001B[1m0s\u001B[0m 43ms/step\n",
      "\u001B[1m1/1\u001B[0m \u001B[32m━━━━━━━━━━━━━━━━━━━━\u001B[0m\u001B[37m\u001B[0m \u001B[1m0s\u001B[0m 43ms/step\n",
      "\u001B[1m1/1\u001B[0m \u001B[32m━━━━━━━━━━━━━━━━━━━━\u001B[0m\u001B[37m\u001B[0m \u001B[1m0s\u001B[0m 43ms/step\n",
      "\u001B[1m1/1\u001B[0m \u001B[32m━━━━━━━━━━━━━━━━━━━━\u001B[0m\u001B[37m\u001B[0m \u001B[1m0s\u001B[0m 43ms/step\n",
      "\u001B[1m1/1\u001B[0m \u001B[32m━━━━━━━━━━━━━━━━━━━━\u001B[0m\u001B[37m\u001B[0m \u001B[1m0s\u001B[0m 42ms/step\n",
      "\u001B[1m1/1\u001B[0m \u001B[32m━━━━━━━━━━━━━━━━━━━━\u001B[0m\u001B[37m\u001B[0m \u001B[1m0s\u001B[0m 42ms/step\n",
      "\u001B[1m1/1\u001B[0m \u001B[32m━━━━━━━━━━━━━━━━━━━━\u001B[0m\u001B[37m\u001B[0m \u001B[1m0s\u001B[0m 42ms/step\n",
      "\u001B[1m1/1\u001B[0m \u001B[32m━━━━━━━━━━━━━━━━━━━━\u001B[0m\u001B[37m\u001B[0m \u001B[1m0s\u001B[0m 44ms/step\n",
      "\u001B[1m1/1\u001B[0m \u001B[32m━━━━━━━━━━━━━━━━━━━━\u001B[0m\u001B[37m\u001B[0m \u001B[1m0s\u001B[0m 44ms/step\n",
      "\u001B[1m1/1\u001B[0m \u001B[32m━━━━━━━━━━━━━━━━━━━━\u001B[0m\u001B[37m\u001B[0m \u001B[1m0s\u001B[0m 45ms/step\n",
      "\u001B[1m1/1\u001B[0m \u001B[32m━━━━━━━━━━━━━━━━━━━━\u001B[0m\u001B[37m\u001B[0m \u001B[1m0s\u001B[0m 43ms/step\n",
      "\u001B[1m1/1\u001B[0m \u001B[32m━━━━━━━━━━━━━━━━━━━━\u001B[0m\u001B[37m\u001B[0m \u001B[1m0s\u001B[0m 42ms/step\n",
      "\u001B[1m1/1\u001B[0m \u001B[32m━━━━━━━━━━━━━━━━━━━━\u001B[0m\u001B[37m\u001B[0m \u001B[1m0s\u001B[0m 43ms/step\n",
      "\u001B[1m1/1\u001B[0m \u001B[32m━━━━━━━━━━━━━━━━━━━━\u001B[0m\u001B[37m\u001B[0m \u001B[1m0s\u001B[0m 43ms/step\n",
      "\u001B[1m1/1\u001B[0m \u001B[32m━━━━━━━━━━━━━━━━━━━━\u001B[0m\u001B[37m\u001B[0m \u001B[1m0s\u001B[0m 44ms/step\n"
     ]
    }
   ],
   "source": [
    "# Initialize lists to collect all true and predicted labels\n",
    "y_true_list = []\n",
    "yhat_list = []\n",
    "\n",
    "for batch in test.as_numpy_iterator(): \n",
    "    # Unpack the batch \n",
    "    X_true, y_true = batch\n",
    "    # Make a prediction \n",
    "    yhat = np.argmax(model.predict(X_true), axis=-1)\n",
    "\n",
    "    \n",
    "    # Flatten the predictions\n",
    "    y_true = y_true.flatten()\n",
    "    yhat = yhat.flatten()\n",
    "\n",
    "    y_true_list.append(y_true)\n",
    "    yhat_list.append(yhat)\n",
    "    \n",
    "    pre.update_state(y_true, yhat)\n",
    "    re.update_state(y_true, yhat)\n",
    "    acc.update_state(y_true, yhat)"
   ]
  },
  {
   "cell_type": "code",
   "execution_count": 25,
   "id": "8378bd78",
   "metadata": {
    "execution": {
     "iopub.execute_input": "2025-01-10T15:41:12.996483Z",
     "iopub.status.busy": "2025-01-10T15:41:12.996106Z",
     "iopub.status.idle": "2025-01-10T15:41:13.006182Z",
     "shell.execute_reply": "2025-01-10T15:41:13.005405Z"
    },
    "papermill": {
     "duration": 0.114037,
     "end_time": "2025-01-10T15:41:13.007351",
     "exception": false,
     "start_time": "2025-01-10T15:41:12.893314",
     "status": "completed"
    },
    "tags": []
   },
   "outputs": [
    {
     "name": "stdout",
     "output_type": "stream",
     "text": [
      "Precision: 0.932624101638794, Recall:1.0, Accuracy:0.7307692170143127\n"
     ]
    }
   ],
   "source": [
    "print(f'Precision: {pre.result().numpy()}, Recall:{re.result().numpy()}, Accuracy:{acc.result().numpy()}')"
   ]
  },
  {
   "cell_type": "code",
   "execution_count": 26,
   "id": "cacdfd91",
   "metadata": {
    "execution": {
     "iopub.execute_input": "2025-01-10T15:41:13.213844Z",
     "iopub.status.busy": "2025-01-10T15:41:13.213516Z",
     "iopub.status.idle": "2025-01-10T15:41:13.223707Z",
     "shell.execute_reply": "2025-01-10T15:41:13.223013Z"
    },
    "papermill": {
     "duration": 0.117392,
     "end_time": "2025-01-10T15:41:13.224982",
     "exception": false,
     "start_time": "2025-01-10T15:41:13.107590",
     "status": "completed"
    },
    "tags": []
   },
   "outputs": [
    {
     "data": {
      "text/plain": [
       "0.9651376008987427"
      ]
     },
     "execution_count": 26,
     "metadata": {},
     "output_type": "execute_result"
    }
   ],
   "source": [
    "F1_score = 2 * ((pre.result().numpy() * re.result().numpy())  / (pre.result().numpy() + re.result().numpy()))\n",
    "\n",
    "F1_score"
   ]
  },
  {
   "cell_type": "code",
   "execution_count": 27,
   "id": "f7315b2d",
   "metadata": {
    "execution": {
     "iopub.execute_input": "2025-01-10T15:41:13.426652Z",
     "iopub.status.busy": "2025-01-10T15:41:13.426311Z",
     "iopub.status.idle": "2025-01-10T15:41:13.623336Z",
     "shell.execute_reply": "2025-01-10T15:41:13.622441Z"
    },
    "papermill": {
     "duration": 0.298438,
     "end_time": "2025-01-10T15:41:13.624706",
     "exception": false,
     "start_time": "2025-01-10T15:41:13.326268",
     "status": "completed"
    },
    "tags": []
   },
   "outputs": [
    {
     "data": {
      "image/png": "[encoded data removed]",
      "text/plain": [
       "<Figure size 600x500 with 2 Axes>"
      ]
     },
     "metadata": {},
     "output_type": "display_data"
    }
   ],
   "source": [
    "# After the loop, concatenate all the true and predicted labels\n",
    "y_true_all = np.concatenate(y_true_list)\n",
    "yhat_all = np.concatenate(yhat_list)\n",
    "\n",
    "# Compute the confusion matrix\n",
    "cm = confusion_matrix(y_true_all, yhat_all)\n",
    "\n",
    "# Plot the confusion matrix\n",
    "plt.figure(figsize=(6, 5))\n",
    "\n",
    "sns.heatmap(cm,\n",
    "            annot=True,\n",
    "            fmt='d',\n",
    "            cmap='Blues',\n",
    "            xticklabels=['Hate Speech', 'Offensive Language', 'Neither'],\n",
    "            yticklabels=['Hate Speech', 'Offensive Language', 'Neither'])\n",
    "\n",
    "plt.xlabel('Predicted')\n",
    "plt.ylabel('True')\n",
    "plt.title('Confusion Matrix')\n",
    "plt.show()"
   ]
  },
  {
   "cell_type": "markdown",
   "id": "eed4d303",
   "metadata": {
    "papermill": {
     "duration": 0.09922,
     "end_time": "2025-01-10T15:41:13.860876",
     "exception": false,
     "start_time": "2025-01-10T15:41:13.761656",
     "status": "completed"
    },
    "tags": []
   },
   "source": [
    "# Save Model"
   ]
  },
  {
   "cell_type": "code",
   "execution_count": 28,
   "id": "ada0605b",
   "metadata": {
    "execution": {
     "iopub.execute_input": "2025-01-10T15:41:14.061574Z",
     "iopub.status.busy": "2025-01-10T15:41:14.061236Z",
     "iopub.status.idle": "2025-01-10T15:41:14.216600Z",
     "shell.execute_reply": "2025-01-10T15:41:14.215633Z"
    },
    "papermill": {
     "duration": 0.258071,
     "end_time": "2025-01-10T15:41:14.218214",
     "exception": false,
     "start_time": "2025-01-10T15:41:13.960143",
     "status": "completed"
    },
    "tags": []
   },
   "outputs": [],
   "source": [
    "# Save the model (including the TextVectorization layer)\n",
    "model.save('lstm_english.h5')"
   ]
  },
  {
   "cell_type": "code",
   "execution_count": null,
   "id": "2073a05e",
   "metadata": {
    "papermill": {
     "duration": 0.100829,
     "end_time": "2025-01-10T15:41:14.420539",
     "exception": false,
     "start_time": "2025-01-10T15:41:14.319710",
     "status": "completed"
    },
    "tags": []
   },
   "outputs": [],
   "source": []
  }
 ],
 "metadata": {
  "kaggle": {
   "accelerator": "nvidiaTeslaT4",
   "dataSources": [
    {
     "datasetId": 723100,
     "sourceId": 1257215,
     "sourceType": "datasetVersion"
    }
   ],
   "dockerImageVersionId": 30823,
   "isGpuEnabled": true,
   "isInternetEnabled": true,
   "language": "python",
   "sourceType": "notebook"
  },
  "kernelspec": {
   "display_name": "Python 3",
   "language": "python",
   "name": "python3"
  },
  "language_info": {
   "codemirror_mode": {
    "name": "ipython",
    "version": 3
   },
   "file_extension": ".py",
   "mimetype": "text/x-python",
   "name": "python",
   "nbconvert_exporter": "python",
   "pygments_lexer": "ipython3",
   "version": "3.10.12"
  },
  "papermill": {
   "default_parameters": {},
   "duration": 227.847259,
   "end_time": "2025-01-10T15:41:17.151045",
   "environment_variables": {},
   "exception": null,
   "input_path": "__notebook__.ipynb",
   "output_path": "__notebook__.ipynb",
   "parameters": {},
   "start_time": "2025-01-10T15:37:29.303786",
   "version": "2.6.0"
  }
 },
 "nbformat": 4,
 "nbformat_minor": 5
}
